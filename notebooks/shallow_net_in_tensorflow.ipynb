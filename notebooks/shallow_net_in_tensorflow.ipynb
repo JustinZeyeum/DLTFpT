{
 "cells": [
  {
   "cell_type": "markdown",
   "metadata": {},
   "source": [
    "# Shallow Neural Network in TensorFlow"
   ]
  },
  {
   "cell_type": "markdown",
   "metadata": {},
   "source": [
    "Build a shallow neural network to classify handwritten digits"
   ]
  },
  {
   "cell_type": "markdown",
   "metadata": {},
   "source": [
    "[![Open In Colab](https://colab.research.google.com/assets/colab-badge.svg)](https://colab.research.google.com/github/jonkrohn/DLTFpT/blob/master/notebooks/shallow_net_in_tensorflow.ipynb)"
   ]
  },
  {
   "cell_type": "markdown",
   "metadata": {},
   "source": [
    "#### Load dependencies"
   ]
  },
  {
   "cell_type": "code",
   "execution_count": 1,
   "metadata": {
    "scrolled": true
   },
   "outputs": [],
   "source": [
    "import tensorflow\n",
    "from tensorflow.keras.datasets import mnist\n",
    "from tensorflow.keras.utils import to_categorical\n",
    "from tensorflow.keras.models import Sequential\n",
    "from tensorflow.keras.layers import Dense\n",
    "from tensorflow.keras.optimizers import SGD\n",
    "from matplotlib import pyplot as plt"
   ]
  },
  {
   "cell_type": "markdown",
   "metadata": {},
   "source": [
    "#### Load data"
   ]
  },
  {
   "cell_type": "code",
   "execution_count": 2,
   "metadata": {
    "scrolled": true
   },
   "outputs": [
    {
     "name": "stdout",
     "output_type": "stream",
     "text": [
      "Downloading data from https://storage.googleapis.com/tensorflow/tf-keras-datasets/mnist.npz\n",
      "11493376/11490434 [==============================] - 6s 0us/step\n"
     ]
    }
   ],
   "source": [
    "(X_train, y_train), (X_valid, y_valid) = mnist.load_data()"
   ]
  },
  {
   "cell_type": "code",
   "execution_count": 3,
   "metadata": {},
   "outputs": [
    {
     "data": {
      "text/plain": [
       "(60000, 28, 28)"
      ]
     },
     "execution_count": 3,
     "metadata": {},
     "output_type": "execute_result"
    }
   ],
   "source": [
    "X_train.shape"
   ]
  },
  {
   "cell_type": "code",
   "execution_count": 4,
   "metadata": {},
   "outputs": [
    {
     "data": {
      "text/plain": [
       "(60000,)"
      ]
     },
     "execution_count": 4,
     "metadata": {},
     "output_type": "execute_result"
    }
   ],
   "source": [
    "y_train.shape"
   ]
  },
  {
   "cell_type": "code",
   "execution_count": 5,
   "metadata": {},
   "outputs": [
    {
     "data": {
      "text/plain": [
       "array([5, 0, 4, 1, 9, 2, 1, 3, 1, 4, 3, 5], dtype=uint8)"
      ]
     },
     "execution_count": 5,
     "metadata": {},
     "output_type": "execute_result"
    }
   ],
   "source": [
    "y_train[0:12]"
   ]
  },
  {
   "cell_type": "code",
   "execution_count": 6,
   "metadata": {},
   "outputs": [
    {
     "data": {
      "image/png": "[encoded data removed]",
      "text/plain": [
       "<Figure size 360x360 with 12 Axes>"
      ]
     },
     "metadata": {
      "needs_background": "light"
     },
     "output_type": "display_data"
    }
   ],
   "source": [
    "plt.figure(figsize=(5,5))\n",
    "for k in range(12):\n",
    "    plt.subplot(3, 4, k+1)\n",
    "    plt.imshow(X_train[k], cmap='Greys')\n",
    "    plt.axis('off')\n",
    "plt.tight_layout()\n",
    "plt.show()"
   ]
  },
  {
   "cell_type": "code",
   "execution_count": 6,
   "metadata": {},
   "outputs": [
    {
     "data": {
      "text/plain": [
       "(10000, 28, 28)"
      ]
     },
     "execution_count": 6,
     "metadata": {},
     "output_type": "execute_result"
    }
   ],
   "source": [
    "X_valid.shape"
   ]
  },
  {
   "cell_type": "code",
   "execution_count": 7,
   "metadata": {},
   "outputs": [
    {
     "data": {
      "text/plain": [
       "(10000,)"
      ]
     },
     "execution_count": 7,
     "metadata": {},
     "output_type": "execute_result"
    }
   ],
   "source": [
    "y_valid.shape"
   ]
  },
  {
   "cell_type": "code",
   "execution_count": 8,
   "metadata": {},
   "outputs": [
    {
     "data": {
      "text/plain": [
       "<matplotlib.image.AxesImage at 0x238f1c03f70>"
      ]
     },
     "execution_count": 8,
     "metadata": {},
     "output_type": "execute_result"
    },
    {
     "data": {
      "image/png": "[encoded data removed]",
      "text/plain": [
       "<Figure size 432x288 with 1 Axes>"
      ]
     },
     "metadata": {
      "needs_background": "light"
     },
     "output_type": "display_data"
    }
   ],
   "source": [
    "plt.imshow(X_valid[0], cmap='Greys')"
   ]
  },
  {
   "cell_type": "code",
   "execution_count": 10,
   "metadata": {},
   "outputs": [
    {
     "data": {
      "text/plain": [
       "array([[  0,   0,   0,   0,   0,   0,   0,   0,   0,   0,   0,   0,   0,\n",
       "          0,   0,   0,   0,   0,   0,   0,   0,   0,   0,   0,   0,   0,\n",
       "          0,   0],\n",
       "       [  0,   0,   0,   0,   0,   0,   0,   0,   0,   0,   0,   0,   0,\n",
       "          0,   0,   0,   0,   0,   0,   0,   0,   0,   0,   0,   0,   0,\n",
       "          0,   0],\n",
       "       [  0,   0,   0,   0,   0,   0,   0,   0,   0,   0,   0,   0,   0,\n",
       "          0,   0,   0,   0,   0,   0,   0,   0,   0,   0,   0,   0,   0,\n",
       "          0,   0],\n",
       "       [  0,   0,   0,   0,   0,   0,   0,   0,   0,   0,   0,   0,   0,\n",
       "          0,   0,   0,   0,   0,   0,   0,   0,   0,   0,   0,   0,   0,\n",
       "          0,   0],\n",
       "       [  0,   0,   0,   0,   0,   0,   0,   0,   0,   0,   0,   0,   0,\n",
       "          0,   0,   0,   0,   0,   0,   0,   0,   0,   0,   0,   0,   0,\n",
       "          0,   0],\n",
       "       [  0,   0,   0,   0,   0,   0,   0,   0,   0,   0,   0,   0,   0,\n",
       "          0,   0,   0,   0,   0,   0,   0,   0,   0,   0,   0,   0,   0,\n",
       "          0,   0],\n",
       "       [  0,   0,   0,   0,   0,   0,   0,   0,   0,   0,   0,   0,   0,\n",
       "          0,   0,   0,   0,   0,   0,   0,   0,   0,   0,   0,   0,   0,\n",
       "          0,   0],\n",
       "       [  0,   0,   0,   0,   0,   0,  84, 185, 159, 151,  60,  36,   0,\n",
       "          0,   0,   0,   0,   0,   0,   0,   0,   0,   0,   0,   0,   0,\n",
       "          0,   0],\n",
       "       [  0,   0,   0,   0,   0,   0, 222, 254, 254, 254, 254, 241, 198,\n",
       "        198, 198, 198, 198, 198, 198, 198, 170,  52,   0,   0,   0,   0,\n",
       "          0,   0],\n",
       "       [  0,   0,   0,   0,   0,   0,  67, 114,  72, 114, 163, 227, 254,\n",
       "        225, 254, 254, 254, 250, 229, 254, 254, 140,   0,   0,   0,   0,\n",
       "          0,   0],\n",
       "       [  0,   0,   0,   0,   0,   0,   0,   0,   0,   0,   0,  17,  66,\n",
       "         14,  67,  67,  67,  59,  21, 236, 254, 106,   0,   0,   0,   0,\n",
       "          0,   0],\n",
       "       [  0,   0,   0,   0,   0,   0,   0,   0,   0,   0,   0,   0,   0,\n",
       "          0,   0,   0,   0,   0,  83, 253, 209,  18,   0,   0,   0,   0,\n",
       "          0,   0],\n",
       "       [  0,   0,   0,   0,   0,   0,   0,   0,   0,   0,   0,   0,   0,\n",
       "          0,   0,   0,   0,  22, 233, 255,  83,   0,   0,   0,   0,   0,\n",
       "          0,   0],\n",
       "       [  0,   0,   0,   0,   0,   0,   0,   0,   0,   0,   0,   0,   0,\n",
       "          0,   0,   0,   0, 129, 254, 238,  44,   0,   0,   0,   0,   0,\n",
       "          0,   0],\n",
       "       [  0,   0,   0,   0,   0,   0,   0,   0,   0,   0,   0,   0,   0,\n",
       "          0,   0,   0,  59, 249, 254,  62,   0,   0,   0,   0,   0,   0,\n",
       "          0,   0],\n",
       "       [  0,   0,   0,   0,   0,   0,   0,   0,   0,   0,   0,   0,   0,\n",
       "          0,   0,   0, 133, 254, 187,   5,   0,   0,   0,   0,   0,   0,\n",
       "          0,   0],\n",
       "       [  0,   0,   0,   0,   0,   0,   0,   0,   0,   0,   0,   0,   0,\n",
       "          0,   0,   9, 205, 248,  58,   0,   0,   0,   0,   0,   0,   0,\n",
       "          0,   0],\n",
       "       [  0,   0,   0,   0,   0,   0,   0,   0,   0,   0,   0,   0,   0,\n",
       "          0,   0, 126, 254, 182,   0,   0,   0,   0,   0,   0,   0,   0,\n",
       "          0,   0],\n",
       "       [  0,   0,   0,   0,   0,   0,   0,   0,   0,   0,   0,   0,   0,\n",
       "          0,  75, 251, 240,  57,   0,   0,   0,   0,   0,   0,   0,   0,\n",
       "          0,   0],\n",
       "       [  0,   0,   0,   0,   0,   0,   0,   0,   0,   0,   0,   0,   0,\n",
       "         19, 221, 254, 166,   0,   0,   0,   0,   0,   0,   0,   0,   0,\n",
       "          0,   0],\n",
       "       [  0,   0,   0,   0,   0,   0,   0,   0,   0,   0,   0,   0,   3,\n",
       "        203, 254, 219,  35,   0,   0,   0,   0,   0,   0,   0,   0,   0,\n",
       "          0,   0],\n",
       "       [  0,   0,   0,   0,   0,   0,   0,   0,   0,   0,   0,   0,  38,\n",
       "        254, 254,  77,   0,   0,   0,   0,   0,   0,   0,   0,   0,   0,\n",
       "          0,   0],\n",
       "       [  0,   0,   0,   0,   0,   0,   0,   0,   0,   0,   0,  31, 224,\n",
       "        254, 115,   1,   0,   0,   0,   0,   0,   0,   0,   0,   0,   0,\n",
       "          0,   0],\n",
       "       [  0,   0,   0,   0,   0,   0,   0,   0,   0,   0,   0, 133, 254,\n",
       "        254,  52,   0,   0,   0,   0,   0,   0,   0,   0,   0,   0,   0,\n",
       "          0,   0],\n",
       "       [  0,   0,   0,   0,   0,   0,   0,   0,   0,   0,  61, 242, 254,\n",
       "        254,  52,   0,   0,   0,   0,   0,   0,   0,   0,   0,   0,   0,\n",
       "          0,   0],\n",
       "       [  0,   0,   0,   0,   0,   0,   0,   0,   0,   0, 121, 254, 254,\n",
       "        219,  40,   0,   0,   0,   0,   0,   0,   0,   0,   0,   0,   0,\n",
       "          0,   0],\n",
       "       [  0,   0,   0,   0,   0,   0,   0,   0,   0,   0, 121, 254, 207,\n",
       "         18,   0,   0,   0,   0,   0,   0,   0,   0,   0,   0,   0,   0,\n",
       "          0,   0],\n",
       "       [  0,   0,   0,   0,   0,   0,   0,   0,   0,   0,   0,   0,   0,\n",
       "          0,   0,   0,   0,   0,   0,   0,   0,   0,   0,   0,   0,   0,\n",
       "          0,   0]], dtype=uint8)"
      ]
     },
     "execution_count": 10,
     "metadata": {},
     "output_type": "execute_result"
    }
   ],
   "source": [
    "X_valid[0]"
   ]
  },
  {
   "cell_type": "code",
   "execution_count": 12,
   "metadata": {},
   "outputs": [
    {
     "data": {
      "text/plain": [
       "7"
      ]
     },
     "execution_count": 12,
     "metadata": {},
     "output_type": "execute_result"
    }
   ],
   "source": [
    "y_valid[0]"
   ]
  },
  {
   "cell_type": "markdown",
   "metadata": {},
   "source": [
    "#### Preprocess data"
   ]
  },
  {
   "cell_type": "code",
   "execution_count": 13,
   "metadata": {},
   "outputs": [],
   "source": [
    "X_train = X_train.reshape(60000, 784).astype('float32')\n",
    "X_valid = X_valid.reshape(10000, 784).astype('float32')"
   ]
  },
  {
   "cell_type": "code",
   "execution_count": 14,
   "metadata": {},
   "outputs": [],
   "source": [
    "X_train /= 255\n",
    "X_valid /= 255"
   ]
  },
  {
   "cell_type": "code",
   "execution_count": 15,
   "metadata": {},
   "outputs": [
    {
     "data": {
      "text/plain": [
       "array([0.0000000e+00, 0.0000000e+00, 0.0000000e+00, 0.0000000e+00,\n",
       "       0.0000000e+00, 0.0000000e+00, 0.0000000e+00, 0.0000000e+00,\n",
       "       0.0000000e+00, 0.0000000e+00, 0.0000000e+00, 0.0000000e+00,\n",
       "       0.0000000e+00, 0.0000000e+00, 0.0000000e+00, 0.0000000e+00,\n",
       "       0.0000000e+00, 0.0000000e+00, 0.0000000e+00, 0.0000000e+00,\n",
       "       0.0000000e+00, 0.0000000e+00, 0.0000000e+00, 0.0000000e+00,\n",
       "       0.0000000e+00, 0.0000000e+00, 0.0000000e+00, 0.0000000e+00,\n",
       "       0.0000000e+00, 0.0000000e+00, 0.0000000e+00, 0.0000000e+00,\n",
       "       0.0000000e+00, 0.0000000e+00, 0.0000000e+00, 0.0000000e+00,\n",
       "       0.0000000e+00, 0.0000000e+00, 0.0000000e+00, 0.0000000e+00,\n",
       "       0.0000000e+00, 0.0000000e+00, 0.0000000e+00, 0.0000000e+00,\n",
       "       0.0000000e+00, 0.0000000e+00, 0.0000000e+00, 0.0000000e+00,\n",
       "       0.0000000e+00, 0.0000000e+00, 0.0000000e+00, 0.0000000e+00,\n",
       "       0.0000000e+00, 0.0000000e+00, 0.0000000e+00, 0.0000000e+00,\n",
       "       0.0000000e+00, 0.0000000e+00, 0.0000000e+00, 0.0000000e+00,\n",
       "       0.0000000e+00, 0.0000000e+00, 0.0000000e+00, 0.0000000e+00,\n",
       "       0.0000000e+00, 0.0000000e+00, 0.0000000e+00, 0.0000000e+00,\n",
       "       0.0000000e+00, 0.0000000e+00, 0.0000000e+00, 0.0000000e+00,\n",
       "       0.0000000e+00, 0.0000000e+00, 0.0000000e+00, 0.0000000e+00,\n",
       "       0.0000000e+00, 0.0000000e+00, 0.0000000e+00, 0.0000000e+00,\n",
       "       0.0000000e+00, 0.0000000e+00, 0.0000000e+00, 0.0000000e+00,\n",
       "       0.0000000e+00, 0.0000000e+00, 0.0000000e+00, 0.0000000e+00,\n",
       "       0.0000000e+00, 0.0000000e+00, 0.0000000e+00, 0.0000000e+00,\n",
       "       0.0000000e+00, 0.0000000e+00, 0.0000000e+00, 0.0000000e+00,\n",
       "       0.0000000e+00, 0.0000000e+00, 0.0000000e+00, 0.0000000e+00,\n",
       "       0.0000000e+00, 0.0000000e+00, 0.0000000e+00, 0.0000000e+00,\n",
       "       0.0000000e+00, 0.0000000e+00, 0.0000000e+00, 0.0000000e+00,\n",
       "       0.0000000e+00, 0.0000000e+00, 0.0000000e+00, 0.0000000e+00,\n",
       "       0.0000000e+00, 0.0000000e+00, 0.0000000e+00, 0.0000000e+00,\n",
       "       0.0000000e+00, 0.0000000e+00, 0.0000000e+00, 0.0000000e+00,\n",
       "       0.0000000e+00, 0.0000000e+00, 0.0000000e+00, 0.0000000e+00,\n",
       "       0.0000000e+00, 0.0000000e+00, 0.0000000e+00, 0.0000000e+00,\n",
       "       0.0000000e+00, 0.0000000e+00, 0.0000000e+00, 0.0000000e+00,\n",
       "       0.0000000e+00, 0.0000000e+00, 0.0000000e+00, 0.0000000e+00,\n",
       "       0.0000000e+00, 0.0000000e+00, 0.0000000e+00, 0.0000000e+00,\n",
       "       0.0000000e+00, 0.0000000e+00, 0.0000000e+00, 0.0000000e+00,\n",
       "       0.0000000e+00, 0.0000000e+00, 0.0000000e+00, 0.0000000e+00,\n",
       "       0.0000000e+00, 0.0000000e+00, 0.0000000e+00, 0.0000000e+00,\n",
       "       0.0000000e+00, 0.0000000e+00, 0.0000000e+00, 0.0000000e+00,\n",
       "       0.0000000e+00, 0.0000000e+00, 0.0000000e+00, 0.0000000e+00,\n",
       "       0.0000000e+00, 0.0000000e+00, 0.0000000e+00, 0.0000000e+00,\n",
       "       0.0000000e+00, 0.0000000e+00, 0.0000000e+00, 0.0000000e+00,\n",
       "       0.0000000e+00, 0.0000000e+00, 0.0000000e+00, 0.0000000e+00,\n",
       "       0.0000000e+00, 0.0000000e+00, 0.0000000e+00, 0.0000000e+00,\n",
       "       0.0000000e+00, 0.0000000e+00, 0.0000000e+00, 0.0000000e+00,\n",
       "       0.0000000e+00, 0.0000000e+00, 0.0000000e+00, 0.0000000e+00,\n",
       "       0.0000000e+00, 0.0000000e+00, 0.0000000e+00, 0.0000000e+00,\n",
       "       0.0000000e+00, 0.0000000e+00, 0.0000000e+00, 0.0000000e+00,\n",
       "       0.0000000e+00, 0.0000000e+00, 0.0000000e+00, 0.0000000e+00,\n",
       "       0.0000000e+00, 0.0000000e+00, 0.0000000e+00, 0.0000000e+00,\n",
       "       0.0000000e+00, 0.0000000e+00, 1.2918109e-03, 2.8450596e-03,\n",
       "       2.4452135e-03, 2.3221839e-03, 9.2272204e-04, 5.5363326e-04,\n",
       "       0.0000000e+00, 0.0000000e+00, 0.0000000e+00, 0.0000000e+00,\n",
       "       0.0000000e+00, 0.0000000e+00, 0.0000000e+00, 0.0000000e+00,\n",
       "       0.0000000e+00, 0.0000000e+00, 0.0000000e+00, 0.0000000e+00,\n",
       "       0.0000000e+00, 0.0000000e+00, 0.0000000e+00, 0.0000000e+00,\n",
       "       0.0000000e+00, 0.0000000e+00, 0.0000000e+00, 0.0000000e+00,\n",
       "       0.0000000e+00, 0.0000000e+00, 3.4140716e-03, 3.9061899e-03,\n",
       "       3.9061899e-03, 3.9061899e-03, 3.9061899e-03, 3.7062669e-03,\n",
       "       3.0449827e-03, 3.0449827e-03, 3.0449827e-03, 3.0449827e-03,\n",
       "       3.0449827e-03, 3.0449827e-03, 3.0449827e-03, 3.0449827e-03,\n",
       "       2.6143792e-03, 7.9969241e-04, 0.0000000e+00, 0.0000000e+00,\n",
       "       0.0000000e+00, 0.0000000e+00, 0.0000000e+00, 0.0000000e+00,\n",
       "       0.0000000e+00, 0.0000000e+00, 0.0000000e+00, 0.0000000e+00,\n",
       "       0.0000000e+00, 0.0000000e+00, 1.0303730e-03, 1.7531719e-03,\n",
       "       1.1072665e-03, 1.7531719e-03, 2.5067283e-03, 3.4909651e-03,\n",
       "       3.9061899e-03, 3.4602077e-03, 3.9061899e-03, 3.9061899e-03,\n",
       "       3.9061899e-03, 3.8446751e-03, 3.5217225e-03, 3.9061899e-03,\n",
       "       3.9061899e-03, 2.1530183e-03, 0.0000000e+00, 0.0000000e+00,\n",
       "       0.0000000e+00, 0.0000000e+00, 0.0000000e+00, 0.0000000e+00,\n",
       "       0.0000000e+00, 0.0000000e+00, 0.0000000e+00, 0.0000000e+00,\n",
       "       0.0000000e+00, 0.0000000e+00, 0.0000000e+00, 0.0000000e+00,\n",
       "       0.0000000e+00, 0.0000000e+00, 0.0000000e+00, 2.6143793e-04,\n",
       "       1.0149943e-03, 2.1530181e-04, 1.0303730e-03, 1.0303730e-03,\n",
       "       1.0303730e-03, 9.0734335e-04, 3.2295272e-04, 3.6293734e-03,\n",
       "       3.9061899e-03, 1.6301422e-03, 0.0000000e+00, 0.0000000e+00,\n",
       "       0.0000000e+00, 0.0000000e+00, 0.0000000e+00, 0.0000000e+00,\n",
       "       0.0000000e+00, 0.0000000e+00, 0.0000000e+00, 0.0000000e+00,\n",
       "       0.0000000e+00, 0.0000000e+00, 0.0000000e+00, 0.0000000e+00,\n",
       "       0.0000000e+00, 0.0000000e+00, 0.0000000e+00, 0.0000000e+00,\n",
       "       0.0000000e+00, 0.0000000e+00, 0.0000000e+00, 0.0000000e+00,\n",
       "       0.0000000e+00, 0.0000000e+00, 1.2764322e-03, 3.8908112e-03,\n",
       "       3.2141483e-03, 2.7681663e-04, 0.0000000e+00, 0.0000000e+00,\n",
       "       0.0000000e+00, 0.0000000e+00, 0.0000000e+00, 0.0000000e+00,\n",
       "       0.0000000e+00, 0.0000000e+00, 0.0000000e+00, 0.0000000e+00,\n",
       "       0.0000000e+00, 0.0000000e+00, 0.0000000e+00, 0.0000000e+00,\n",
       "       0.0000000e+00, 0.0000000e+00, 0.0000000e+00, 0.0000000e+00,\n",
       "       0.0000000e+00, 0.0000000e+00, 0.0000000e+00, 0.0000000e+00,\n",
       "       0.0000000e+00, 3.3833142e-04, 3.5832373e-03, 3.9215689e-03,\n",
       "       1.2764322e-03, 0.0000000e+00, 0.0000000e+00, 0.0000000e+00,\n",
       "       0.0000000e+00, 0.0000000e+00, 0.0000000e+00, 0.0000000e+00,\n",
       "       0.0000000e+00, 0.0000000e+00, 0.0000000e+00, 0.0000000e+00,\n",
       "       0.0000000e+00, 0.0000000e+00, 0.0000000e+00, 0.0000000e+00,\n",
       "       0.0000000e+00, 0.0000000e+00, 0.0000000e+00, 0.0000000e+00,\n",
       "       0.0000000e+00, 0.0000000e+00, 0.0000000e+00, 0.0000000e+00,\n",
       "       0.0000000e+00, 1.9838526e-03, 3.9061899e-03, 3.6601308e-03,\n",
       "       6.7666284e-04, 0.0000000e+00, 0.0000000e+00, 0.0000000e+00,\n",
       "       0.0000000e+00, 0.0000000e+00, 0.0000000e+00, 0.0000000e+00,\n",
       "       0.0000000e+00, 0.0000000e+00, 0.0000000e+00, 0.0000000e+00,\n",
       "       0.0000000e+00, 0.0000000e+00, 0.0000000e+00, 0.0000000e+00,\n",
       "       0.0000000e+00, 0.0000000e+00, 0.0000000e+00, 0.0000000e+00,\n",
       "       0.0000000e+00, 0.0000000e+00, 0.0000000e+00, 0.0000000e+00,\n",
       "       9.0734335e-04, 3.8292964e-03, 3.9061899e-03, 9.5347944e-04,\n",
       "       0.0000000e+00, 0.0000000e+00, 0.0000000e+00, 0.0000000e+00,\n",
       "       0.0000000e+00, 0.0000000e+00, 0.0000000e+00, 0.0000000e+00,\n",
       "       0.0000000e+00, 0.0000000e+00, 0.0000000e+00, 0.0000000e+00,\n",
       "       0.0000000e+00, 0.0000000e+00, 0.0000000e+00, 0.0000000e+00,\n",
       "       0.0000000e+00, 0.0000000e+00, 0.0000000e+00, 0.0000000e+00,\n",
       "       0.0000000e+00, 0.0000000e+00, 0.0000000e+00, 0.0000000e+00,\n",
       "       2.0453674e-03, 3.9061899e-03, 2.8758170e-03, 7.6893506e-05,\n",
       "       0.0000000e+00, 0.0000000e+00, 0.0000000e+00, 0.0000000e+00,\n",
       "       0.0000000e+00, 0.0000000e+00, 0.0000000e+00, 0.0000000e+00,\n",
       "       0.0000000e+00, 0.0000000e+00, 0.0000000e+00, 0.0000000e+00,\n",
       "       0.0000000e+00, 0.0000000e+00, 0.0000000e+00, 0.0000000e+00,\n",
       "       0.0000000e+00, 0.0000000e+00, 0.0000000e+00, 0.0000000e+00,\n",
       "       0.0000000e+00, 0.0000000e+00, 0.0000000e+00, 1.3840832e-04,\n",
       "       3.1526336e-03, 3.8139177e-03, 8.9196465e-04, 0.0000000e+00,\n",
       "       0.0000000e+00, 0.0000000e+00, 0.0000000e+00, 0.0000000e+00,\n",
       "       0.0000000e+00, 0.0000000e+00, 0.0000000e+00, 0.0000000e+00,\n",
       "       0.0000000e+00, 0.0000000e+00, 0.0000000e+00, 0.0000000e+00,\n",
       "       0.0000000e+00, 0.0000000e+00, 0.0000000e+00, 0.0000000e+00,\n",
       "       0.0000000e+00, 0.0000000e+00, 0.0000000e+00, 0.0000000e+00,\n",
       "       0.0000000e+00, 0.0000000e+00, 0.0000000e+00, 1.9377163e-03,\n",
       "       3.9061899e-03, 2.7989235e-03, 0.0000000e+00, 0.0000000e+00,\n",
       "       0.0000000e+00, 0.0000000e+00, 0.0000000e+00, 0.0000000e+00,\n",
       "       0.0000000e+00, 0.0000000e+00, 0.0000000e+00, 0.0000000e+00,\n",
       "       0.0000000e+00, 0.0000000e+00, 0.0000000e+00, 0.0000000e+00,\n",
       "       0.0000000e+00, 0.0000000e+00, 0.0000000e+00, 0.0000000e+00,\n",
       "       0.0000000e+00, 0.0000000e+00, 0.0000000e+00, 0.0000000e+00,\n",
       "       0.0000000e+00, 0.0000000e+00, 1.1534026e-03, 3.8600538e-03,\n",
       "       3.6908882e-03, 8.7658595e-04, 0.0000000e+00, 0.0000000e+00,\n",
       "       0.0000000e+00, 0.0000000e+00, 0.0000000e+00, 0.0000000e+00,\n",
       "       0.0000000e+00, 0.0000000e+00, 0.0000000e+00, 0.0000000e+00,\n",
       "       0.0000000e+00, 0.0000000e+00, 0.0000000e+00, 0.0000000e+00,\n",
       "       0.0000000e+00, 0.0000000e+00, 0.0000000e+00, 0.0000000e+00,\n",
       "       0.0000000e+00, 0.0000000e+00, 0.0000000e+00, 0.0000000e+00,\n",
       "       0.0000000e+00, 2.9219533e-04, 3.3986929e-03, 3.9061899e-03,\n",
       "       2.5528644e-03, 0.0000000e+00, 0.0000000e+00, 0.0000000e+00,\n",
       "       0.0000000e+00, 0.0000000e+00, 0.0000000e+00, 0.0000000e+00,\n",
       "       0.0000000e+00, 0.0000000e+00, 0.0000000e+00, 0.0000000e+00,\n",
       "       0.0000000e+00, 0.0000000e+00, 0.0000000e+00, 0.0000000e+00,\n",
       "       0.0000000e+00, 0.0000000e+00, 0.0000000e+00, 0.0000000e+00,\n",
       "       0.0000000e+00, 0.0000000e+00, 0.0000000e+00, 0.0000000e+00,\n",
       "       4.6136101e-05, 3.1218762e-03, 3.9061899e-03, 3.3679355e-03,\n",
       "       5.3825456e-04, 0.0000000e+00, 0.0000000e+00, 0.0000000e+00,\n",
       "       0.0000000e+00, 0.0000000e+00, 0.0000000e+00, 0.0000000e+00,\n",
       "       0.0000000e+00, 0.0000000e+00, 0.0000000e+00, 0.0000000e+00,\n",
       "       0.0000000e+00, 0.0000000e+00, 0.0000000e+00, 0.0000000e+00,\n",
       "       0.0000000e+00, 0.0000000e+00, 0.0000000e+00, 0.0000000e+00,\n",
       "       0.0000000e+00, 0.0000000e+00, 0.0000000e+00, 0.0000000e+00,\n",
       "       5.8439065e-04, 3.9061899e-03, 3.9061899e-03, 1.1841600e-03,\n",
       "       0.0000000e+00, 0.0000000e+00, 0.0000000e+00, 0.0000000e+00,\n",
       "       0.0000000e+00, 0.0000000e+00, 0.0000000e+00, 0.0000000e+00,\n",
       "       0.0000000e+00, 0.0000000e+00, 0.0000000e+00, 0.0000000e+00,\n",
       "       0.0000000e+00, 0.0000000e+00, 0.0000000e+00, 0.0000000e+00,\n",
       "       0.0000000e+00, 0.0000000e+00, 0.0000000e+00, 0.0000000e+00,\n",
       "       0.0000000e+00, 0.0000000e+00, 0.0000000e+00, 4.7673972e-04,\n",
       "       3.4448290e-03, 3.9061899e-03, 1.7685506e-03, 1.5378702e-05,\n",
       "       0.0000000e+00, 0.0000000e+00, 0.0000000e+00, 0.0000000e+00,\n",
       "       0.0000000e+00, 0.0000000e+00, 0.0000000e+00, 0.0000000e+00,\n",
       "       0.0000000e+00, 0.0000000e+00, 0.0000000e+00, 0.0000000e+00,\n",
       "       0.0000000e+00, 0.0000000e+00, 0.0000000e+00, 0.0000000e+00,\n",
       "       0.0000000e+00, 0.0000000e+00, 0.0000000e+00, 0.0000000e+00,\n",
       "       0.0000000e+00, 0.0000000e+00, 0.0000000e+00, 2.0453674e-03,\n",
       "       3.9061899e-03, 3.9061899e-03, 7.9969241e-04, 0.0000000e+00,\n",
       "       0.0000000e+00, 0.0000000e+00, 0.0000000e+00, 0.0000000e+00,\n",
       "       0.0000000e+00, 0.0000000e+00, 0.0000000e+00, 0.0000000e+00,\n",
       "       0.0000000e+00, 0.0000000e+00, 0.0000000e+00, 0.0000000e+00,\n",
       "       0.0000000e+00, 0.0000000e+00, 0.0000000e+00, 0.0000000e+00,\n",
       "       0.0000000e+00, 0.0000000e+00, 0.0000000e+00, 0.0000000e+00,\n",
       "       0.0000000e+00, 0.0000000e+00, 9.3810074e-04, 3.7216456e-03,\n",
       "       3.9061899e-03, 3.9061899e-03, 7.9969241e-04, 0.0000000e+00,\n",
       "       0.0000000e+00, 0.0000000e+00, 0.0000000e+00, 0.0000000e+00,\n",
       "       0.0000000e+00, 0.0000000e+00, 0.0000000e+00, 0.0000000e+00,\n",
       "       0.0000000e+00, 0.0000000e+00, 0.0000000e+00, 0.0000000e+00,\n",
       "       0.0000000e+00, 0.0000000e+00, 0.0000000e+00, 0.0000000e+00,\n",
       "       0.0000000e+00, 0.0000000e+00, 0.0000000e+00, 0.0000000e+00,\n",
       "       0.0000000e+00, 0.0000000e+00, 1.8608228e-03, 3.9061899e-03,\n",
       "       3.9061899e-03, 3.3679355e-03, 6.1514805e-04, 0.0000000e+00,\n",
       "       0.0000000e+00, 0.0000000e+00, 0.0000000e+00, 0.0000000e+00,\n",
       "       0.0000000e+00, 0.0000000e+00, 0.0000000e+00, 0.0000000e+00,\n",
       "       0.0000000e+00, 0.0000000e+00, 0.0000000e+00, 0.0000000e+00,\n",
       "       0.0000000e+00, 0.0000000e+00, 0.0000000e+00, 0.0000000e+00,\n",
       "       0.0000000e+00, 0.0000000e+00, 0.0000000e+00, 0.0000000e+00,\n",
       "       0.0000000e+00, 0.0000000e+00, 1.8608228e-03, 3.9061899e-03,\n",
       "       3.1833909e-03, 2.7681663e-04, 0.0000000e+00, 0.0000000e+00,\n",
       "       0.0000000e+00, 0.0000000e+00, 0.0000000e+00, 0.0000000e+00,\n",
       "       0.0000000e+00, 0.0000000e+00, 0.0000000e+00, 0.0000000e+00,\n",
       "       0.0000000e+00, 0.0000000e+00, 0.0000000e+00, 0.0000000e+00,\n",
       "       0.0000000e+00, 0.0000000e+00, 0.0000000e+00, 0.0000000e+00,\n",
       "       0.0000000e+00, 0.0000000e+00, 0.0000000e+00, 0.0000000e+00,\n",
       "       0.0000000e+00, 0.0000000e+00, 0.0000000e+00, 0.0000000e+00,\n",
       "       0.0000000e+00, 0.0000000e+00, 0.0000000e+00, 0.0000000e+00,\n",
       "       0.0000000e+00, 0.0000000e+00, 0.0000000e+00, 0.0000000e+00,\n",
       "       0.0000000e+00, 0.0000000e+00, 0.0000000e+00, 0.0000000e+00,\n",
       "       0.0000000e+00, 0.0000000e+00, 0.0000000e+00, 0.0000000e+00],\n",
       "      dtype=float32)"
      ]
     },
     "execution_count": 15,
     "metadata": {},
     "output_type": "execute_result"
    }
   ],
   "source": [
    "X_valid[0]"
   ]
  },
  {
   "cell_type": "code",
   "execution_count": 16,
   "metadata": {},
   "outputs": [],
   "source": [
    "n_classes = 10\n",
    "y_train = to_categorical(y_train, n_classes)\n",
    "y_valid = to_categorical(y_valid, n_classes)"
   ]
  },
  {
   "cell_type": "code",
   "execution_count": 17,
   "metadata": {},
   "outputs": [
    {
     "data": {
      "text/plain": [
       "array([0., 0., 0., 0., 0., 0., 0., 1., 0., 0.], dtype=float32)"
      ]
     },
     "execution_count": 17,
     "metadata": {},
     "output_type": "execute_result"
    }
   ],
   "source": [
    "y_valid[0]"
   ]
  },
  {
   "cell_type": "markdown",
   "metadata": {},
   "source": [
    "#### Design neural network architecture"
   ]
  },
  {
   "cell_type": "code",
   "execution_count": 22,
   "metadata": {},
   "outputs": [],
   "source": [
    "model = Sequential()\n",
    "# hidden layer:\n",
    "model.add(Dense(64, activation='sigmoid', input_shape=(784,)))\n",
    "\n",
    "# output layer:\n",
    "model.add(Dense(10, activation='softmax'))"
   ]
  },
  {
   "cell_type": "code",
   "execution_count": 23,
   "metadata": {},
   "outputs": [
    {
     "name": "stdout",
     "output_type": "stream",
     "text": [
      "Model: \"sequential_1\"\n",
      "_________________________________________________________________\n",
      "Layer (type)                 Output Shape              Param #   \n",
      "=================================================================\n",
      "dense_2 (Dense)              (None, 64)                50240     \n",
      "_________________________________________________________________\n",
      "dense_3 (Dense)              (None, 10)                650       \n",
      "=================================================================\n",
      "Total params: 50,890\n",
      "Trainable params: 50,890\n",
      "Non-trainable params: 0\n",
      "_________________________________________________________________\n"
     ]
    }
   ],
   "source": [
    "model.summary()"
   ]
  },
  {
   "cell_type": "code",
   "execution_count": 24,
   "metadata": {},
   "outputs": [
    {
     "data": {
      "text/plain": [
       "50176"
      ]
     },
     "execution_count": 24,
     "metadata": {},
     "output_type": "execute_result"
    }
   ],
   "source": [
    "(64*784)"
   ]
  },
  {
   "cell_type": "code",
   "execution_count": 25,
   "metadata": {},
   "outputs": [
    {
     "data": {
      "text/plain": [
       "50240"
      ]
     },
     "execution_count": 25,
     "metadata": {},
     "output_type": "execute_result"
    }
   ],
   "source": [
    "(64*784)+64"
   ]
  },
  {
   "cell_type": "code",
   "execution_count": 26,
   "metadata": {},
   "outputs": [
    {
     "data": {
      "text/plain": [
       "650"
      ]
     },
     "execution_count": 26,
     "metadata": {},
     "output_type": "execute_result"
    }
   ],
   "source": [
    "(10*64)+10"
   ]
  },
  {
   "cell_type": "markdown",
   "metadata": {},
   "source": [
    "#### Configure model"
   ]
  },
  {
   "cell_type": "code",
   "execution_count": 27,
   "metadata": {},
   "outputs": [],
   "source": [
    "model.compile(loss='mean_squared_error', optimizer=SGD(lr=0.01), metrics=['accuracy'])"
   ]
  },
  {
   "cell_type": "markdown",
   "metadata": {},
   "source": [
    "#### Train!"
   ]
  },
  {
   "cell_type": "code",
   "execution_count": 28,
   "metadata": {},
   "outputs": [
    {
     "name": "stdout",
     "output_type": "stream",
     "text": [
      "Epoch 1/200\n",
      "469/469 [==============================] - 2s 4ms/step - loss: 0.0907 - accuracy: 0.1124 - val_loss: 0.0906 - val_accuracy: 0.1135\n",
      "Epoch 2/200\n",
      "469/469 [==============================] - 1s 2ms/step - loss: 0.0905 - accuracy: 0.1124 - val_loss: 0.0904 - val_accuracy: 0.1135\n",
      "Epoch 3/200\n",
      "469/469 [==============================] - 1s 2ms/step - loss: 0.0903 - accuracy: 0.1124 - val_loss: 0.0903 - val_accuracy: 0.1135\n",
      "Epoch 4/200\n",
      "469/469 [==============================] - 1s 2ms/step - loss: 0.0902 - accuracy: 0.1124 - val_loss: 0.0902 - val_accuracy: 0.1135\n",
      "Epoch 5/200\n",
      "469/469 [==============================] - 1s 2ms/step - loss: 0.0902 - accuracy: 0.1124 - val_loss: 0.0901 - val_accuracy: 0.1135\n",
      "Epoch 6/200\n",
      "469/469 [==============================] - 1s 2ms/step - loss: 0.0901 - accuracy: 0.1124 - val_loss: 0.0901 - val_accuracy: 0.1135\n",
      "Epoch 7/200\n",
      "469/469 [==============================] - 1s 2ms/step - loss: 0.0901 - accuracy: 0.1124 - val_loss: 0.0901 - val_accuracy: 0.1135\n",
      "Epoch 8/200\n",
      "469/469 [==============================] - 1s 2ms/step - loss: 0.0901 - accuracy: 0.1124 - val_loss: 0.0900 - val_accuracy: 0.1135\n",
      "Epoch 9/200\n",
      "469/469 [==============================] - 1s 2ms/step - loss: 0.0900 - accuracy: 0.1124 - val_loss: 0.0900 - val_accuracy: 0.1135\n",
      "Epoch 10/200\n",
      "469/469 [==============================] - 1s 2ms/step - loss: 0.0900 - accuracy: 0.1124 - val_loss: 0.0900 - val_accuracy: 0.1135\n",
      "Epoch 11/200\n",
      "469/469 [==============================] - 1s 2ms/step - loss: 0.0900 - accuracy: 0.1124 - val_loss: 0.0900 - val_accuracy: 0.1135\n",
      "Epoch 12/200\n",
      "469/469 [==============================] - 1s 2ms/step - loss: 0.0900 - accuracy: 0.1124 - val_loss: 0.0900 - val_accuracy: 0.1135\n",
      "Epoch 13/200\n",
      "469/469 [==============================] - 1s 2ms/step - loss: 0.0900 - accuracy: 0.1124 - val_loss: 0.0900 - val_accuracy: 0.1135\n",
      "Epoch 14/200\n",
      "469/469 [==============================] - 1s 2ms/step - loss: 0.0900 - accuracy: 0.1124 - val_loss: 0.0900 - val_accuracy: 0.1135\n",
      "Epoch 15/200\n",
      "469/469 [==============================] - 1s 2ms/step - loss: 0.0900 - accuracy: 0.1124 - val_loss: 0.0900 - val_accuracy: 0.1135\n",
      "Epoch 16/200\n",
      "469/469 [==============================] - 1s 2ms/step - loss: 0.0900 - accuracy: 0.1124 - val_loss: 0.0900 - val_accuracy: 0.1135\n",
      "Epoch 17/200\n",
      "469/469 [==============================] - 1s 2ms/step - loss: 0.0900 - accuracy: 0.1124 - val_loss: 0.0900 - val_accuracy: 0.1135\n",
      "Epoch 18/200\n",
      "469/469 [==============================] - 1s 2ms/step - loss: 0.0900 - accuracy: 0.1124 - val_loss: 0.0900 - val_accuracy: 0.1135\n",
      "Epoch 19/200\n",
      "469/469 [==============================] - 1s 2ms/step - loss: 0.0900 - accuracy: 0.1124 - val_loss: 0.0900 - val_accuracy: 0.1135\n",
      "Epoch 20/200\n",
      "469/469 [==============================] - 1s 2ms/step - loss: 0.0900 - accuracy: 0.1124 - val_loss: 0.0900 - val_accuracy: 0.1135\n",
      "Epoch 21/200\n",
      "469/469 [==============================] - 1s 2ms/step - loss: 0.0900 - accuracy: 0.1124 - val_loss: 0.0900 - val_accuracy: 0.1135\n",
      "Epoch 22/200\n",
      "469/469 [==============================] - 1s 2ms/step - loss: 0.0900 - accuracy: 0.1124 - val_loss: 0.0900 - val_accuracy: 0.1135\n",
      "Epoch 23/200\n",
      "469/469 [==============================] - 1s 2ms/step - loss: 0.0900 - accuracy: 0.1124 - val_loss: 0.0900 - val_accuracy: 0.1135\n",
      "Epoch 24/200\n",
      "469/469 [==============================] - 1s 2ms/step - loss: 0.0900 - accuracy: 0.1124 - val_loss: 0.0900 - val_accuracy: 0.1135\n",
      "Epoch 25/200\n",
      "469/469 [==============================] - 1s 2ms/step - loss: 0.0900 - accuracy: 0.1124 - val_loss: 0.0900 - val_accuracy: 0.1135\n",
      "Epoch 26/200\n",
      "469/469 [==============================] - 1s 2ms/step - loss: 0.0900 - accuracy: 0.1124 - val_loss: 0.0900 - val_accuracy: 0.1135\n",
      "Epoch 27/200\n",
      "469/469 [==============================] - 1s 2ms/step - loss: 0.0900 - accuracy: 0.1124 - val_loss: 0.0900 - val_accuracy: 0.1135\n",
      "Epoch 28/200\n",
      "469/469 [==============================] - 1s 2ms/step - loss: 0.0900 - accuracy: 0.1124 - val_loss: 0.0900 - val_accuracy: 0.1135\n",
      "Epoch 29/200\n",
      "469/469 [==============================] - 1s 2ms/step - loss: 0.0900 - accuracy: 0.1124 - val_loss: 0.0900 - val_accuracy: 0.1135\n",
      "Epoch 30/200\n",
      "469/469 [==============================] - 1s 2ms/step - loss: 0.0900 - accuracy: 0.1124 - val_loss: 0.0900 - val_accuracy: 0.1135\n",
      "Epoch 31/200\n",
      "469/469 [==============================] - 1s 2ms/step - loss: 0.0900 - accuracy: 0.1124 - val_loss: 0.0900 - val_accuracy: 0.1135\n",
      "Epoch 32/200\n",
      "469/469 [==============================] - 1s 2ms/step - loss: 0.0900 - accuracy: 0.1124 - val_loss: 0.0900 - val_accuracy: 0.1135\n",
      "Epoch 33/200\n",
      "469/469 [==============================] - 1s 2ms/step - loss: 0.0900 - accuracy: 0.1124 - val_loss: 0.0900 - val_accuracy: 0.1135\n",
      "Epoch 34/200\n",
      "469/469 [==============================] - 1s 2ms/step - loss: 0.0900 - accuracy: 0.1124 - val_loss: 0.0900 - val_accuracy: 0.1135\n",
      "Epoch 35/200\n",
      "469/469 [==============================] - 1s 2ms/step - loss: 0.0900 - accuracy: 0.1124 - val_loss: 0.0900 - val_accuracy: 0.1135\n",
      "Epoch 36/200\n",
      "469/469 [==============================] - 1s 2ms/step - loss: 0.0900 - accuracy: 0.1124 - val_loss: 0.0900 - val_accuracy: 0.1135\n",
      "Epoch 37/200\n",
      "469/469 [==============================] - 1s 2ms/step - loss: 0.0900 - accuracy: 0.1124 - val_loss: 0.0900 - val_accuracy: 0.1135\n",
      "Epoch 38/200\n",
      "469/469 [==============================] - 1s 2ms/step - loss: 0.0900 - accuracy: 0.1124 - val_loss: 0.0900 - val_accuracy: 0.1135\n",
      "Epoch 39/200\n",
      "469/469 [==============================] - 1s 2ms/step - loss: 0.0900 - accuracy: 0.1124 - val_loss: 0.0900 - val_accuracy: 0.1135\n",
      "Epoch 40/200\n",
      "469/469 [==============================] - 1s 2ms/step - loss: 0.0900 - accuracy: 0.1124 - val_loss: 0.0900 - val_accuracy: 0.1135\n",
      "Epoch 41/200\n",
      "469/469 [==============================] - 1s 2ms/step - loss: 0.0900 - accuracy: 0.1124 - val_loss: 0.0900 - val_accuracy: 0.1135\n",
      "Epoch 42/200\n",
      "469/469 [==============================] - 1s 2ms/step - loss: 0.0900 - accuracy: 0.1124 - val_loss: 0.0900 - val_accuracy: 0.1135\n",
      "Epoch 43/200\n",
      "469/469 [==============================] - 1s 2ms/step - loss: 0.0900 - accuracy: 0.1124 - val_loss: 0.0900 - val_accuracy: 0.1135\n",
      "Epoch 44/200\n",
      "469/469 [==============================] - 1s 2ms/step - loss: 0.0900 - accuracy: 0.1124 - val_loss: 0.0900 - val_accuracy: 0.1135\n",
      "Epoch 45/200\n",
      "469/469 [==============================] - 1s 2ms/step - loss: 0.0900 - accuracy: 0.1124 - val_loss: 0.0900 - val_accuracy: 0.1135\n",
      "Epoch 46/200\n",
      "469/469 [==============================] - 1s 2ms/step - loss: 0.0900 - accuracy: 0.1124 - val_loss: 0.0900 - val_accuracy: 0.1135\n",
      "Epoch 47/200\n",
      "469/469 [==============================] - 1s 2ms/step - loss: 0.0900 - accuracy: 0.1124 - val_loss: 0.0900 - val_accuracy: 0.1135\n",
      "Epoch 48/200\n",
      "469/469 [==============================] - 1s 2ms/step - loss: 0.0900 - accuracy: 0.1124 - val_loss: 0.0900 - val_accuracy: 0.1135\n",
      "Epoch 49/200\n",
      "469/469 [==============================] - 1s 2ms/step - loss: 0.0900 - accuracy: 0.1124 - val_loss: 0.0900 - val_accuracy: 0.1135\n",
      "Epoch 50/200\n",
      "469/469 [==============================] - 1s 2ms/step - loss: 0.0900 - accuracy: 0.1124 - val_loss: 0.0900 - val_accuracy: 0.1135\n",
      "Epoch 51/200\n",
      "469/469 [==============================] - 1s 2ms/step - loss: 0.0900 - accuracy: 0.1124 - val_loss: 0.0900 - val_accuracy: 0.1135\n",
      "Epoch 52/200\n",
      "469/469 [==============================] - 1s 2ms/step - loss: 0.0900 - accuracy: 0.1124 - val_loss: 0.0900 - val_accuracy: 0.1135\n",
      "Epoch 53/200\n",
      "469/469 [==============================] - 1s 2ms/step - loss: 0.0900 - accuracy: 0.1124 - val_loss: 0.0900 - val_accuracy: 0.1135\n",
      "Epoch 54/200\n",
      "469/469 [==============================] - 1s 2ms/step - loss: 0.0900 - accuracy: 0.1124 - val_loss: 0.0900 - val_accuracy: 0.1135\n",
      "Epoch 55/200\n",
      "469/469 [==============================] - 1s 2ms/step - loss: 0.0900 - accuracy: 0.1124 - val_loss: 0.0900 - val_accuracy: 0.1135\n",
      "Epoch 56/200\n",
      "469/469 [==============================] - 1s 2ms/step - loss: 0.0900 - accuracy: 0.1124 - val_loss: 0.0900 - val_accuracy: 0.1135\n",
      "Epoch 57/200\n",
      "469/469 [==============================] - 1s 2ms/step - loss: 0.0900 - accuracy: 0.1124 - val_loss: 0.0900 - val_accuracy: 0.1135\n"
     ]
    },
    {
     "name": "stdout",
     "output_type": "stream",
     "text": [
      "Epoch 58/200\n",
      "469/469 [==============================] - 1s 2ms/step - loss: 0.0900 - accuracy: 0.1124 - val_loss: 0.0900 - val_accuracy: 0.1135\n",
      "Epoch 59/200\n",
      "469/469 [==============================] - 1s 2ms/step - loss: 0.0900 - accuracy: 0.1124 - val_loss: 0.0900 - val_accuracy: 0.1135\n",
      "Epoch 60/200\n",
      "469/469 [==============================] - 1s 2ms/step - loss: 0.0900 - accuracy: 0.1124 - val_loss: 0.0900 - val_accuracy: 0.1135\n",
      "Epoch 61/200\n",
      "469/469 [==============================] - 1s 2ms/step - loss: 0.0900 - accuracy: 0.1124 - val_loss: 0.0900 - val_accuracy: 0.1135\n",
      "Epoch 62/200\n",
      "469/469 [==============================] - 1s 3ms/step - loss: 0.0900 - accuracy: 0.1124 - val_loss: 0.0900 - val_accuracy: 0.1135\n",
      "Epoch 63/200\n",
      "469/469 [==============================] - 1s 2ms/step - loss: 0.0900 - accuracy: 0.1124 - val_loss: 0.0900 - val_accuracy: 0.1135\n",
      "Epoch 64/200\n",
      "469/469 [==============================] - 1s 2ms/step - loss: 0.0900 - accuracy: 0.1124 - val_loss: 0.0900 - val_accuracy: 0.1135\n",
      "Epoch 65/200\n",
      "469/469 [==============================] - 1s 2ms/step - loss: 0.0900 - accuracy: 0.1124 - val_loss: 0.0900 - val_accuracy: 0.1135\n",
      "Epoch 66/200\n",
      "469/469 [==============================] - 1s 2ms/step - loss: 0.0900 - accuracy: 0.1124 - val_loss: 0.0900 - val_accuracy: 0.1135\n",
      "Epoch 67/200\n",
      "469/469 [==============================] - 1s 3ms/step - loss: 0.0900 - accuracy: 0.1124 - val_loss: 0.0900 - val_accuracy: 0.1135\n",
      "Epoch 68/200\n",
      "469/469 [==============================] - 1s 2ms/step - loss: 0.0900 - accuracy: 0.1124 - val_loss: 0.0900 - val_accuracy: 0.1135\n",
      "Epoch 69/200\n",
      "469/469 [==============================] - 1s 2ms/step - loss: 0.0900 - accuracy: 0.1124 - val_loss: 0.0900 - val_accuracy: 0.1135\n",
      "Epoch 70/200\n",
      "469/469 [==============================] - 1s 3ms/step - loss: 0.0900 - accuracy: 0.1124 - val_loss: 0.0900 - val_accuracy: 0.1135\n",
      "Epoch 71/200\n",
      "469/469 [==============================] - 1s 3ms/step - loss: 0.0900 - accuracy: 0.1124 - val_loss: 0.0900 - val_accuracy: 0.1135\n",
      "Epoch 72/200\n",
      "469/469 [==============================] - 1s 3ms/step - loss: 0.0900 - accuracy: 0.1124 - val_loss: 0.0900 - val_accuracy: 0.1135\n",
      "Epoch 73/200\n",
      "469/469 [==============================] - 1s 3ms/step - loss: 0.0900 - accuracy: 0.1124 - val_loss: 0.0900 - val_accuracy: 0.1135\n",
      "Epoch 74/200\n",
      "469/469 [==============================] - 1s 3ms/step - loss: 0.0900 - accuracy: 0.1124 - val_loss: 0.0900 - val_accuracy: 0.1135\n",
      "Epoch 75/200\n",
      "469/469 [==============================] - 1s 3ms/step - loss: 0.0900 - accuracy: 0.1124 - val_loss: 0.0900 - val_accuracy: 0.1135\n",
      "Epoch 76/200\n",
      "469/469 [==============================] - 1s 3ms/step - loss: 0.0900 - accuracy: 0.1124 - val_loss: 0.0900 - val_accuracy: 0.1135\n",
      "Epoch 77/200\n",
      "469/469 [==============================] - 1s 3ms/step - loss: 0.0900 - accuracy: 0.1124 - val_loss: 0.0900 - val_accuracy: 0.1135\n",
      "Epoch 78/200\n",
      "469/469 [==============================] - 1s 3ms/step - loss: 0.0900 - accuracy: 0.1124 - val_loss: 0.0900 - val_accuracy: 0.1135\n",
      "Epoch 79/200\n",
      "469/469 [==============================] - 1s 3ms/step - loss: 0.0900 - accuracy: 0.1124 - val_loss: 0.0900 - val_accuracy: 0.1135\n",
      "Epoch 80/200\n",
      "469/469 [==============================] - 1s 3ms/step - loss: 0.0900 - accuracy: 0.1124 - val_loss: 0.0900 - val_accuracy: 0.1135\n",
      "Epoch 81/200\n",
      "469/469 [==============================] - 1s 3ms/step - loss: 0.0900 - accuracy: 0.1124 - val_loss: 0.0900 - val_accuracy: 0.1135\n",
      "Epoch 82/200\n",
      "469/469 [==============================] - 1s 3ms/step - loss: 0.0900 - accuracy: 0.1124 - val_loss: 0.0900 - val_accuracy: 0.1135\n",
      "Epoch 83/200\n",
      "469/469 [==============================] - 1s 3ms/step - loss: 0.0900 - accuracy: 0.1124 - val_loss: 0.0900 - val_accuracy: 0.1135\n",
      "Epoch 84/200\n",
      "469/469 [==============================] - 1s 3ms/step - loss: 0.0900 - accuracy: 0.1124 - val_loss: 0.0900 - val_accuracy: 0.1135\n",
      "Epoch 85/200\n",
      "469/469 [==============================] - 1s 3ms/step - loss: 0.0900 - accuracy: 0.1124 - val_loss: 0.0900 - val_accuracy: 0.1135\n",
      "Epoch 86/200\n",
      "469/469 [==============================] - 1s 3ms/step - loss: 0.0900 - accuracy: 0.1124 - val_loss: 0.0900 - val_accuracy: 0.1135\n",
      "Epoch 87/200\n",
      "469/469 [==============================] - 1s 3ms/step - loss: 0.0900 - accuracy: 0.1124 - val_loss: 0.0900 - val_accuracy: 0.1135\n",
      "Epoch 88/200\n",
      "469/469 [==============================] - 1s 3ms/step - loss: 0.0900 - accuracy: 0.1124 - val_loss: 0.0900 - val_accuracy: 0.1135\n",
      "Epoch 89/200\n",
      "469/469 [==============================] - 1s 3ms/step - loss: 0.0900 - accuracy: 0.1124 - val_loss: 0.0900 - val_accuracy: 0.1135\n",
      "Epoch 90/200\n",
      "469/469 [==============================] - 1s 3ms/step - loss: 0.0900 - accuracy: 0.1124 - val_loss: 0.0900 - val_accuracy: 0.1135\n",
      "Epoch 91/200\n",
      "469/469 [==============================] - 1s 3ms/step - loss: 0.0900 - accuracy: 0.1124 - val_loss: 0.0900 - val_accuracy: 0.1135\n",
      "Epoch 92/200\n",
      "469/469 [==============================] - 1s 3ms/step - loss: 0.0900 - accuracy: 0.1124 - val_loss: 0.0900 - val_accuracy: 0.1135\n",
      "Epoch 93/200\n",
      "469/469 [==============================] - 1s 3ms/step - loss: 0.0900 - accuracy: 0.1124 - val_loss: 0.0900 - val_accuracy: 0.1135\n",
      "Epoch 94/200\n",
      "469/469 [==============================] - 1s 3ms/step - loss: 0.0900 - accuracy: 0.1124 - val_loss: 0.0900 - val_accuracy: 0.1135\n",
      "Epoch 95/200\n",
      "469/469 [==============================] - 1s 3ms/step - loss: 0.0900 - accuracy: 0.1124 - val_loss: 0.0900 - val_accuracy: 0.1135\n",
      "Epoch 96/200\n",
      "469/469 [==============================] - 1s 3ms/step - loss: 0.0900 - accuracy: 0.1124 - val_loss: 0.0900 - val_accuracy: 0.1135\n",
      "Epoch 97/200\n",
      "469/469 [==============================] - 1s 3ms/step - loss: 0.0900 - accuracy: 0.1124 - val_loss: 0.0900 - val_accuracy: 0.1135\n",
      "Epoch 98/200\n",
      "469/469 [==============================] - 1s 3ms/step - loss: 0.0900 - accuracy: 0.1124 - val_loss: 0.0900 - val_accuracy: 0.1135\n",
      "Epoch 99/200\n",
      "469/469 [==============================] - 1s 3ms/step - loss: 0.0900 - accuracy: 0.1124 - val_loss: 0.0900 - val_accuracy: 0.1135\n",
      "Epoch 100/200\n",
      "469/469 [==============================] - 1s 3ms/step - loss: 0.0900 - accuracy: 0.1124 - val_loss: 0.0900 - val_accuracy: 0.1135\n",
      "Epoch 101/200\n",
      "469/469 [==============================] - 1s 3ms/step - loss: 0.0900 - accuracy: 0.1124 - val_loss: 0.0900 - val_accuracy: 0.1135\n",
      "Epoch 102/200\n",
      "469/469 [==============================] - 1s 3ms/step - loss: 0.0900 - accuracy: 0.1124 - val_loss: 0.0900 - val_accuracy: 0.1135\n",
      "Epoch 103/200\n",
      "469/469 [==============================] - 1s 3ms/step - loss: 0.0900 - accuracy: 0.1124 - val_loss: 0.0900 - val_accuracy: 0.1135\n",
      "Epoch 104/200\n",
      "469/469 [==============================] - 1s 3ms/step - loss: 0.0900 - accuracy: 0.1124 - val_loss: 0.0900 - val_accuracy: 0.1135\n",
      "Epoch 105/200\n",
      "469/469 [==============================] - 1s 3ms/step - loss: 0.0900 - accuracy: 0.1124 - val_loss: 0.0900 - val_accuracy: 0.1135\n",
      "Epoch 106/200\n",
      "469/469 [==============================] - 1s 3ms/step - loss: 0.0900 - accuracy: 0.1124 - val_loss: 0.0900 - val_accuracy: 0.1135\n",
      "Epoch 107/200\n",
      "469/469 [==============================] - 1s 3ms/step - loss: 0.0900 - accuracy: 0.1124 - val_loss: 0.0900 - val_accuracy: 0.1135\n",
      "Epoch 108/200\n",
      "469/469 [==============================] - 1s 3ms/step - loss: 0.0900 - accuracy: 0.1124 - val_loss: 0.0900 - val_accuracy: 0.1135\n",
      "Epoch 109/200\n",
      "469/469 [==============================] - 1s 3ms/step - loss: 0.0900 - accuracy: 0.1124 - val_loss: 0.0900 - val_accuracy: 0.1135\n",
      "Epoch 110/200\n",
      "469/469 [==============================] - 1s 3ms/step - loss: 0.0900 - accuracy: 0.1124 - val_loss: 0.0900 - val_accuracy: 0.1135\n",
      "Epoch 111/200\n",
      "469/469 [==============================] - 1s 3ms/step - loss: 0.0900 - accuracy: 0.1124 - val_loss: 0.0900 - val_accuracy: 0.1135\n",
      "Epoch 112/200\n",
      "469/469 [==============================] - 1s 3ms/step - loss: 0.0900 - accuracy: 0.1124 - val_loss: 0.0900 - val_accuracy: 0.1135\n",
      "Epoch 113/200\n",
      "469/469 [==============================] - 1s 3ms/step - loss: 0.0900 - accuracy: 0.1124 - val_loss: 0.0900 - val_accuracy: 0.1135\n",
      "Epoch 114/200\n",
      "469/469 [==============================] - 1s 3ms/step - loss: 0.0900 - accuracy: 0.1124 - val_loss: 0.0900 - val_accuracy: 0.1135\n"
     ]
    },
    {
     "name": "stdout",
     "output_type": "stream",
     "text": [
      "Epoch 115/200\n",
      "469/469 [==============================] - 1s 2ms/step - loss: 0.0900 - accuracy: 0.1124 - val_loss: 0.0900 - val_accuracy: 0.1135\n",
      "Epoch 116/200\n",
      "469/469 [==============================] - 1s 3ms/step - loss: 0.0900 - accuracy: 0.1124 - val_loss: 0.0900 - val_accuracy: 0.1135\n",
      "Epoch 117/200\n",
      "469/469 [==============================] - 1s 3ms/step - loss: 0.0900 - accuracy: 0.1124 - val_loss: 0.0900 - val_accuracy: 0.1135\n",
      "Epoch 118/200\n",
      "469/469 [==============================] - 1s 2ms/step - loss: 0.0900 - accuracy: 0.1124 - val_loss: 0.0900 - val_accuracy: 0.1135\n",
      "Epoch 119/200\n",
      "469/469 [==============================] - 1s 3ms/step - loss: 0.0900 - accuracy: 0.1124 - val_loss: 0.0900 - val_accuracy: 0.1135\n",
      "Epoch 120/200\n",
      "469/469 [==============================] - 1s 3ms/step - loss: 0.0900 - accuracy: 0.1124 - val_loss: 0.0900 - val_accuracy: 0.1135\n",
      "Epoch 121/200\n",
      "469/469 [==============================] - 1s 3ms/step - loss: 0.0900 - accuracy: 0.1124 - val_loss: 0.0900 - val_accuracy: 0.1135\n",
      "Epoch 122/200\n",
      "469/469 [==============================] - 1s 3ms/step - loss: 0.0900 - accuracy: 0.1124 - val_loss: 0.0900 - val_accuracy: 0.1135\n",
      "Epoch 123/200\n",
      "469/469 [==============================] - 1s 2ms/step - loss: 0.0900 - accuracy: 0.1124 - val_loss: 0.0900 - val_accuracy: 0.1135\n",
      "Epoch 124/200\n",
      "469/469 [==============================] - 1s 3ms/step - loss: 0.0900 - accuracy: 0.1124 - val_loss: 0.0900 - val_accuracy: 0.1135\n",
      "Epoch 125/200\n",
      "469/469 [==============================] - 1s 3ms/step - loss: 0.0900 - accuracy: 0.1124 - val_loss: 0.0900 - val_accuracy: 0.1135\n",
      "Epoch 126/200\n",
      "469/469 [==============================] - 1s 3ms/step - loss: 0.0900 - accuracy: 0.1124 - val_loss: 0.0900 - val_accuracy: 0.1135\n",
      "Epoch 127/200\n",
      "469/469 [==============================] - 1s 3ms/step - loss: 0.0900 - accuracy: 0.1124 - val_loss: 0.0900 - val_accuracy: 0.1135\n",
      "Epoch 128/200\n",
      "469/469 [==============================] - 1s 3ms/step - loss: 0.0900 - accuracy: 0.1124 - val_loss: 0.0900 - val_accuracy: 0.1135\n",
      "Epoch 129/200\n",
      "469/469 [==============================] - 1s 3ms/step - loss: 0.0900 - accuracy: 0.1124 - val_loss: 0.0900 - val_accuracy: 0.1135\n",
      "Epoch 130/200\n",
      "469/469 [==============================] - 1s 3ms/step - loss: 0.0900 - accuracy: 0.1124 - val_loss: 0.0900 - val_accuracy: 0.1135\n",
      "Epoch 131/200\n",
      "469/469 [==============================] - 1s 3ms/step - loss: 0.0900 - accuracy: 0.1124 - val_loss: 0.0900 - val_accuracy: 0.1135\n",
      "Epoch 132/200\n",
      "469/469 [==============================] - 1s 3ms/step - loss: 0.0900 - accuracy: 0.1124 - val_loss: 0.0900 - val_accuracy: 0.1135\n",
      "Epoch 133/200\n",
      "469/469 [==============================] - 1s 3ms/step - loss: 0.0900 - accuracy: 0.1124 - val_loss: 0.0900 - val_accuracy: 0.1135\n",
      "Epoch 134/200\n",
      "469/469 [==============================] - 1s 3ms/step - loss: 0.0900 - accuracy: 0.1124 - val_loss: 0.0900 - val_accuracy: 0.1135\n",
      "Epoch 135/200\n",
      "469/469 [==============================] - 1s 3ms/step - loss: 0.0900 - accuracy: 0.1124 - val_loss: 0.0900 - val_accuracy: 0.1135\n",
      "Epoch 136/200\n",
      "469/469 [==============================] - 1s 3ms/step - loss: 0.0900 - accuracy: 0.1124 - val_loss: 0.0900 - val_accuracy: 0.1135\n",
      "Epoch 137/200\n",
      "469/469 [==============================] - 1s 3ms/step - loss: 0.0900 - accuracy: 0.1124 - val_loss: 0.0900 - val_accuracy: 0.1135\n",
      "Epoch 138/200\n",
      "469/469 [==============================] - 1s 3ms/step - loss: 0.0900 - accuracy: 0.1124 - val_loss: 0.0900 - val_accuracy: 0.1135\n",
      "Epoch 139/200\n",
      "469/469 [==============================] - 2s 3ms/step - loss: 0.0900 - accuracy: 0.1124 - val_loss: 0.0900 - val_accuracy: 0.1135\n",
      "Epoch 140/200\n",
      "469/469 [==============================] - 1s 3ms/step - loss: 0.0900 - accuracy: 0.1124 - val_loss: 0.0900 - val_accuracy: 0.1135\n",
      "Epoch 141/200\n",
      "469/469 [==============================] - 1s 3ms/step - loss: 0.0900 - accuracy: 0.1124 - val_loss: 0.0900 - val_accuracy: 0.1135\n",
      "Epoch 142/200\n",
      "469/469 [==============================] - 1s 3ms/step - loss: 0.0900 - accuracy: 0.1124 - val_loss: 0.0900 - val_accuracy: 0.1135\n",
      "Epoch 143/200\n",
      "469/469 [==============================] - 1s 3ms/step - loss: 0.0900 - accuracy: 0.1124 - val_loss: 0.0900 - val_accuracy: 0.1135\n",
      "Epoch 144/200\n",
      "469/469 [==============================] - 1s 3ms/step - loss: 0.0900 - accuracy: 0.1124 - val_loss: 0.0900 - val_accuracy: 0.1135\n",
      "Epoch 145/200\n",
      "469/469 [==============================] - 1s 3ms/step - loss: 0.0900 - accuracy: 0.1124 - val_loss: 0.0900 - val_accuracy: 0.1135\n",
      "Epoch 146/200\n",
      "469/469 [==============================] - 1s 3ms/step - loss: 0.0900 - accuracy: 0.1124 - val_loss: 0.0900 - val_accuracy: 0.1135\n",
      "Epoch 147/200\n",
      "469/469 [==============================] - 1s 3ms/step - loss: 0.0900 - accuracy: 0.1124 - val_loss: 0.0900 - val_accuracy: 0.1135\n",
      "Epoch 148/200\n",
      "469/469 [==============================] - 1s 3ms/step - loss: 0.0900 - accuracy: 0.1124 - val_loss: 0.0900 - val_accuracy: 0.1135\n",
      "Epoch 149/200\n",
      "469/469 [==============================] - 1s 3ms/step - loss: 0.0900 - accuracy: 0.1124 - val_loss: 0.0900 - val_accuracy: 0.1135\n",
      "Epoch 150/200\n",
      "469/469 [==============================] - 1s 3ms/step - loss: 0.0900 - accuracy: 0.1124 - val_loss: 0.0900 - val_accuracy: 0.1135\n",
      "Epoch 151/200\n",
      "469/469 [==============================] - 1s 3ms/step - loss: 0.0900 - accuracy: 0.1124 - val_loss: 0.0900 - val_accuracy: 0.1135\n",
      "Epoch 152/200\n",
      "469/469 [==============================] - 1s 3ms/step - loss: 0.0900 - accuracy: 0.1124 - val_loss: 0.0900 - val_accuracy: 0.1135\n",
      "Epoch 153/200\n",
      "469/469 [==============================] - 1s 3ms/step - loss: 0.0900 - accuracy: 0.1124 - val_loss: 0.0900 - val_accuracy: 0.1135\n",
      "Epoch 154/200\n",
      "469/469 [==============================] - 1s 3ms/step - loss: 0.0900 - accuracy: 0.1124 - val_loss: 0.0900 - val_accuracy: 0.1135\n",
      "Epoch 155/200\n",
      "469/469 [==============================] - 1s 3ms/step - loss: 0.0900 - accuracy: 0.1124 - val_loss: 0.0900 - val_accuracy: 0.1135\n",
      "Epoch 156/200\n",
      "469/469 [==============================] - 1s 3ms/step - loss: 0.0900 - accuracy: 0.1124 - val_loss: 0.0900 - val_accuracy: 0.1135\n",
      "Epoch 157/200\n",
      "469/469 [==============================] - 1s 3ms/step - loss: 0.0900 - accuracy: 0.1124 - val_loss: 0.0900 - val_accuracy: 0.1135\n",
      "Epoch 158/200\n",
      "469/469 [==============================] - 1s 3ms/step - loss: 0.0900 - accuracy: 0.1124 - val_loss: 0.0900 - val_accuracy: 0.1135\n",
      "Epoch 159/200\n",
      "469/469 [==============================] - 1s 3ms/step - loss: 0.0900 - accuracy: 0.1124 - val_loss: 0.0900 - val_accuracy: 0.1135\n",
      "Epoch 160/200\n",
      "469/469 [==============================] - 1s 3ms/step - loss: 0.0900 - accuracy: 0.1124 - val_loss: 0.0900 - val_accuracy: 0.1135\n",
      "Epoch 161/200\n",
      "469/469 [==============================] - 1s 3ms/step - loss: 0.0900 - accuracy: 0.1124 - val_loss: 0.0900 - val_accuracy: 0.1135\n",
      "Epoch 162/200\n",
      "469/469 [==============================] - 1s 3ms/step - loss: 0.0900 - accuracy: 0.1124 - val_loss: 0.0900 - val_accuracy: 0.1135\n",
      "Epoch 163/200\n",
      "469/469 [==============================] - 1s 3ms/step - loss: 0.0900 - accuracy: 0.1124 - val_loss: 0.0900 - val_accuracy: 0.1135\n",
      "Epoch 164/200\n",
      "469/469 [==============================] - 1s 3ms/step - loss: 0.0900 - accuracy: 0.1124 - val_loss: 0.0900 - val_accuracy: 0.1135\n",
      "Epoch 165/200\n",
      "469/469 [==============================] - 1s 3ms/step - loss: 0.0900 - accuracy: 0.1124 - val_loss: 0.0900 - val_accuracy: 0.1135\n",
      "Epoch 166/200\n",
      "469/469 [==============================] - 1s 3ms/step - loss: 0.0900 - accuracy: 0.1124 - val_loss: 0.0900 - val_accuracy: 0.1135\n",
      "Epoch 167/200\n",
      "469/469 [==============================] - 1s 3ms/step - loss: 0.0900 - accuracy: 0.1124 - val_loss: 0.0900 - val_accuracy: 0.1135\n",
      "Epoch 168/200\n",
      "469/469 [==============================] - 1s 3ms/step - loss: 0.0900 - accuracy: 0.1124 - val_loss: 0.0900 - val_accuracy: 0.1135\n",
      "Epoch 169/200\n",
      "469/469 [==============================] - 1s 3ms/step - loss: 0.0900 - accuracy: 0.1124 - val_loss: 0.0900 - val_accuracy: 0.1135\n",
      "Epoch 170/200\n",
      "469/469 [==============================] - 1s 3ms/step - loss: 0.0900 - accuracy: 0.1124 - val_loss: 0.0900 - val_accuracy: 0.1135\n",
      "Epoch 171/200\n",
      "469/469 [==============================] - 1s 3ms/step - loss: 0.0900 - accuracy: 0.1124 - val_loss: 0.0900 - val_accuracy: 0.1135\n",
      "Epoch 172/200\n",
      "469/469 [==============================] - 1s 3ms/step - loss: 0.0900 - accuracy: 0.1124 - val_loss: 0.0900 - val_accuracy: 0.1135\n",
      "Epoch 173/200\n",
      "469/469 [==============================] - 1s 2ms/step - loss: 0.0900 - accuracy: 0.1124 - val_loss: 0.0900 - val_accuracy: 0.1135\n",
      "Epoch 174/200\n",
      "469/469 [==============================] - 1s 3ms/step - loss: 0.0900 - accuracy: 0.1124 - val_loss: 0.0900 - val_accuracy: 0.1135\n",
      "Epoch 175/200\n",
      "469/469 [==============================] - 1s 3ms/step - loss: 0.0900 - accuracy: 0.1124 - val_loss: 0.0900 - val_accuracy: 0.1135\n",
      "Epoch 176/200\n",
      "469/469 [==============================] - 1s 3ms/step - loss: 0.0900 - accuracy: 0.1124 - val_loss: 0.0900 - val_accuracy: 0.1135\n",
      "Epoch 177/200\n",
      "469/469 [==============================] - 1s 3ms/step - loss: 0.0900 - accuracy: 0.1124 - val_loss: 0.0900 - val_accuracy: 0.1135\n",
      "Epoch 178/200\n",
      "469/469 [==============================] - 1s 3ms/step - loss: 0.0900 - accuracy: 0.1124 - val_loss: 0.0900 - val_accuracy: 0.1135\n",
      "Epoch 179/200\n",
      "469/469 [==============================] - 1s 2ms/step - loss: 0.0900 - accuracy: 0.1124 - val_loss: 0.0900 - val_accuracy: 0.1135\n",
      "Epoch 180/200\n",
      "469/469 [==============================] - 1s 2ms/step - loss: 0.0900 - accuracy: 0.1124 - val_loss: 0.0900 - val_accuracy: 0.1135\n",
      "Epoch 181/200\n",
      "469/469 [==============================] - 1s 3ms/step - loss: 0.0900 - accuracy: 0.1124 - val_loss: 0.0900 - val_accuracy: 0.1135\n",
      "Epoch 182/200\n",
      "469/469 [==============================] - 1s 2ms/step - loss: 0.0900 - accuracy: 0.1124 - val_loss: 0.0900 - val_accuracy: 0.1135\n",
      "Epoch 183/200\n",
      "469/469 [==============================] - 1s 3ms/step - loss: 0.0900 - accuracy: 0.1124 - val_loss: 0.0900 - val_accuracy: 0.1135\n",
      "Epoch 184/200\n",
      "469/469 [==============================] - 1s 3ms/step - loss: 0.0900 - accuracy: 0.1124 - val_loss: 0.0900 - val_accuracy: 0.1135\n",
      "Epoch 185/200\n",
      "469/469 [==============================] - 1s 3ms/step - loss: 0.0900 - accuracy: 0.1124 - val_loss: 0.0900 - val_accuracy: 0.1135\n",
      "Epoch 186/200\n",
      "469/469 [==============================] - 1s 3ms/step - loss: 0.0900 - accuracy: 0.1124 - val_loss: 0.0900 - val_accuracy: 0.1135\n",
      "Epoch 187/200\n",
      "469/469 [==============================] - 1s 3ms/step - loss: 0.0900 - accuracy: 0.1124 - val_loss: 0.0900 - val_accuracy: 0.1135\n",
      "Epoch 188/200\n",
      "469/469 [==============================] - 1s 3ms/step - loss: 0.0900 - accuracy: 0.1124 - val_loss: 0.0900 - val_accuracy: 0.1135\n",
      "Epoch 189/200\n",
      "469/469 [==============================] - 1s 2ms/step - loss: 0.0900 - accuracy: 0.1124 - val_loss: 0.0900 - val_accuracy: 0.1135\n",
      "Epoch 190/200\n",
      "469/469 [==============================] - 1s 3ms/step - loss: 0.0900 - accuracy: 0.1124 - val_loss: 0.0900 - val_accuracy: 0.1135\n",
      "Epoch 191/200\n",
      "469/469 [==============================] - 1s 3ms/step - loss: 0.0900 - accuracy: 0.1124 - val_loss: 0.0900 - val_accuracy: 0.1135\n",
      "Epoch 192/200\n",
      "469/469 [==============================] - 1s 3ms/step - loss: 0.0900 - accuracy: 0.1124 - val_loss: 0.0900 - val_accuracy: 0.1135\n",
      "Epoch 193/200\n",
      "469/469 [==============================] - 1s 3ms/step - loss: 0.0900 - accuracy: 0.1124 - val_loss: 0.0900 - val_accuracy: 0.1135\n",
      "Epoch 194/200\n",
      "469/469 [==============================] - 1s 3ms/step - loss: 0.0900 - accuracy: 0.1124 - val_loss: 0.0900 - val_accuracy: 0.1135\n",
      "Epoch 195/200\n",
      "469/469 [==============================] - 1s 3ms/step - loss: 0.0900 - accuracy: 0.1124 - val_loss: 0.0900 - val_accuracy: 0.1135\n",
      "Epoch 196/200\n",
      "469/469 [==============================] - 1s 3ms/step - loss: 0.0900 - accuracy: 0.1124 - val_loss: 0.0900 - val_accuracy: 0.1135\n",
      "Epoch 197/200\n",
      "469/469 [==============================] - 1s 3ms/step - loss: 0.0900 - accuracy: 0.1124 - val_loss: 0.0900 - val_accuracy: 0.1135\n",
      "Epoch 198/200\n",
      "469/469 [==============================] - 1s 3ms/step - loss: 0.0900 - accuracy: 0.1124 - val_loss: 0.0900 - val_accuracy: 0.1135\n",
      "Epoch 199/200\n",
      "469/469 [==============================] - 1s 3ms/step - loss: 0.0900 - accuracy: 0.1124 - val_loss: 0.0900 - val_accuracy: 0.1135\n",
      "Epoch 200/200\n",
      "469/469 [==============================] - 1s 3ms/step - loss: 0.0900 - accuracy: 0.1124 - val_loss: 0.0900 - val_accuracy: 0.1135\n"
     ]
    },
    {
     "data": {
      "text/plain": [
       "<tensorflow.python.keras.callbacks.History at 0x238eec668b0>"
      ]
     },
     "execution_count": 28,
     "metadata": {},
     "output_type": "execute_result"
    }
   ],
   "source": [
    "model.fit(X_train, y_train, batch_size=128, epochs=200, verbose=1, validation_data=(X_valid, y_valid))"
   ]
  },
  {
   "cell_type": "markdown",
   "metadata": {},
   "source": [
    "#### Evaluating model performance"
   ]
  },
  {
   "cell_type": "code",
   "execution_count": 29,
   "metadata": {},
   "outputs": [
    {
     "name": "stdout",
     "output_type": "stream",
     "text": [
      "313/313 [==============================] - 0s 910us/step - loss: 0.0900 - accuracy: 0.1135\n"
     ]
    },
    {
     "data": {
      "text/plain": [
       "[0.08996748924255371, 0.11349999904632568]"
      ]
     },
     "execution_count": 29,
     "metadata": {},
     "output_type": "execute_result"
    }
   ],
   "source": [
    "model.evaluate(X_valid, y_valid)"
   ]
  },
  {
   "cell_type": "markdown",
   "metadata": {},
   "source": [
    "#### Performing inference"
   ]
  },
  {
   "cell_type": "code",
   "execution_count": 30,
   "metadata": {},
   "outputs": [],
   "source": [
    "valid_0 = X_valid[0].reshape(1, 784)"
   ]
  },
  {
   "cell_type": "code",
   "execution_count": 31,
   "metadata": {},
   "outputs": [
    {
     "data": {
      "text/plain": [
       "array([[0.0987244 , 0.11240412, 0.09924728, 0.10215834, 0.0973955 ,\n",
       "        0.0904221 , 0.09866791, 0.10436121, 0.09748164, 0.09913749]],\n",
       "      dtype=float32)"
      ]
     },
     "execution_count": 31,
     "metadata": {},
     "output_type": "execute_result"
    }
   ],
   "source": [
    "model.predict(valid_0)"
   ]
  },
  {
   "cell_type": "code",
   "execution_count": 32,
   "metadata": {},
   "outputs": [
    {
     "name": "stdout",
     "output_type": "stream",
     "text": [
      "WARNING:tensorflow:From <ipython-input-32-f7c492057c27>:1: Sequential.predict_classes (from tensorflow.python.keras.engine.sequential) is deprecated and will be removed after 2021-01-01.\n",
      "Instructions for updating:\n",
      "Please use instead:* `np.argmax(model.predict(x), axis=-1)`,   if your model does multi-class classification   (e.g. if it uses a `softmax` last-layer activation).* `(model.predict(x) > 0.5).astype(\"int32\")`,   if your model does binary classification   (e.g. if it uses a `sigmoid` last-layer activation).\n"
     ]
    },
    {
     "data": {
      "text/plain": [
       "array([1], dtype=int64)"
      ]
     },
     "execution_count": 32,
     "metadata": {},
     "output_type": "execute_result"
    }
   ],
   "source": [
    "model.predict_classes(valid_0)"
   ]
  }
 ],
 "metadata": {
  "kernelspec": {
   "display_name": "Python 3",
   "language": "python",
   "name": "python3"
  },
  "language_info": {
   "codemirror_mode": {
    "name": "ipython",
    "version": 3
   },
   "file_extension": ".py",
   "mimetype": "text/x-python",
   "name": "python",
   "nbconvert_exporter": "python",
   "pygments_lexer": "ipython3",
   "version": "3.8.3"
  }
 },
 "nbformat": 4,
 "nbformat_minor": 2
}
